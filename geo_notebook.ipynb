{
 "cells": [
  {
   "cell_type": "code",
   "execution_count": null,
   "id": "9b9c1351-7652-4eee-9814-6a6c9d10eab5",
   "metadata": {},
   "outputs": [],
   "source": [
    "import geopandas as gpd\n",
    "\n",
    "# Import sample data\n",
    "gdf = gpd.read_file(\"ne_110m_admin_0_countries.gpkg\")\n",
    "\n",
    "# Display first 5 rows\n",
    "display(gdf.head())"
   ]
  }
 ],
 "metadata": {
  "kernelspec": {
   "display_name": "Python 3 (ipykernel)",
   "language": "python",
   "name": "python3"
  },
  "language_info": {
   "codemirror_mode": {
    "name": "ipython",
    "version": 3
   },
   "file_extension": ".py",
   "mimetype": "text/x-python",
   "name": "python",
   "nbconvert_exporter": "python",
   "pygments_lexer": "ipython3",
   "version": "3.9.16"
  }
 },
 "nbformat": 4,
 "nbformat_minor": 5
}
